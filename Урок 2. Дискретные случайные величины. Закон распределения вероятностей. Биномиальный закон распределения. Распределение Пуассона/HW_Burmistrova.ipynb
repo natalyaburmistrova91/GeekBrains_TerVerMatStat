{
 "cells": [
  {
   "cell_type": "markdown",
   "metadata": {},
   "source": [
    "## Урок 2. Дискретные случайные величины. Закон распределения вероятностей. Биномиальный закон распределения. Распределение Пуассона"
   ]
  },
  {
   "cell_type": "code",
   "execution_count": 2,
   "metadata": {},
   "outputs": [],
   "source": [
    "from math import factorial"
   ]
  },
  {
   "cell_type": "markdown",
   "metadata": {},
   "source": [
    "#### 1. Вероятность того, что стрелок попадет в мишень, выстрелив один раз, равна 0.8. Стрелок выстрелил 100 раз. Найдите вероятность того, что стрелок попадет в цель ровно 85 раз."
   ]
  },
  {
   "cell_type": "markdown",
   "metadata": {},
   "source": [
    "Найдем вероятность по Формуле Бернулли:\n",
    "\n",
    "p( k = 85 ) = C 85 из 100 * ( p ** 85 ) * ( q ** (100 - 85) ), \n",
    "\n",
    "где p = 0,8; \n",
    "q = 0,2; \n",
    "C 85 из 100 = 100!/(85! * (100 - 85)!)"
   ]
  },
  {
   "cell_type": "code",
   "execution_count": 23,
   "metadata": {},
   "outputs": [
    {
     "data": {
      "text/plain": [
       "0.05"
      ]
     },
     "execution_count": 23,
     "metadata": {},
     "output_type": "execute_result"
    }
   ],
   "source": [
    "p = (factorial(100)/(factorial(85)*factorial(100-85)))*(0.8**85)*(0.2**15)\n",
    "round(p,2)"
   ]
  },
  {
   "cell_type": "markdown",
   "metadata": {},
   "source": [
    "#### 2. Вероятность того, что лампочка перегорит в течение первого дня эксплуатации, равна 0.0004. В жилом комплексе после ремонта в один день включили 5000 новых лампочек. Какова вероятность, что ни одна из них не перегорит в первый день? Какова вероятность, что перегорят ровно две?"
   ]
  },
  {
   "cell_type": "code",
   "execution_count": 31,
   "metadata": {},
   "outputs": [],
   "source": [
    "def probability(m, l):\n",
    "    return round(((l**m)/factorial(m))*(2.72**(-l)), 2)"
   ]
  },
  {
   "cell_type": "markdown",
   "metadata": {},
   "source": [
    "Вероятность наступления события очень низкая, воспользуемся формулой Пуассона\n",
    "\n",
    "P = ((l ** m)/m!) * (e**(-l))\n",
    "\n",
    "l = p*n"
   ]
  },
  {
   "cell_type": "code",
   "execution_count": 25,
   "metadata": {},
   "outputs": [
    {
     "data": {
      "text/plain": [
       "2.0"
      ]
     },
     "execution_count": 25,
     "metadata": {},
     "output_type": "execute_result"
    }
   ],
   "source": [
    "l = 0.0004*5000\n",
    "l"
   ]
  },
  {
   "cell_type": "code",
   "execution_count": 32,
   "metadata": {},
   "outputs": [
    {
     "data": {
      "text/plain": [
       "0.14"
      ]
     },
     "execution_count": 32,
     "metadata": {},
     "output_type": "execute_result"
    }
   ],
   "source": [
    "probability(0, l)"
   ]
  },
  {
   "cell_type": "code",
   "execution_count": 33,
   "metadata": {},
   "outputs": [
    {
     "data": {
      "text/plain": [
       "0.27"
      ]
     },
     "execution_count": 33,
     "metadata": {},
     "output_type": "execute_result"
    }
   ],
   "source": [
    "probability(2, l)"
   ]
  },
  {
   "cell_type": "markdown",
   "metadata": {},
   "source": [
    "#### 3. Монету подбросили 144 раза. Какова вероятность, что орел выпадет ровно 70 раз?"
   ]
  },
  {
   "cell_type": "markdown",
   "metadata": {},
   "source": [
    "Найдем вероятность по Формуле Бернулли:\n",
    "\n",
    "p( k = 70 ) = C 70 из 144 * ( 1/2 ** 70 ) * ( 1/2 ** (144 - 70) ), \n",
    "\n",
    "C 70 из 144 = 144!/(70! * (144 - 70)!)"
   ]
  },
  {
   "cell_type": "code",
   "execution_count": 34,
   "metadata": {},
   "outputs": [
    {
     "data": {
      "text/plain": [
       "0.06"
      ]
     },
     "execution_count": 34,
     "metadata": {},
     "output_type": "execute_result"
    }
   ],
   "source": [
    "p = (factorial(144)/(factorial(70)*factorial(144-70)))*(0.5**70)*(0.5**(144-70))\n",
    "round(p,2)"
   ]
  },
  {
   "cell_type": "markdown",
   "metadata": {},
   "source": [
    "#### 4. В первом ящике находится 10 мячей, из которых 7 - белые. Во втором ящике - 11 мячей, из которых 9 белых. Из каждого ящика вытаскивают случайным образом по два мяча. "
   ]
  },
  {
   "cell_type": "code",
   "execution_count": 38,
   "metadata": {},
   "outputs": [],
   "source": [
    "def combination(total, need_to_take):\n",
    "    return factorial(total)/((factorial(need_to_take)*factorial(total-need_to_take)))\n",
    "\n",
    "                             \n",
    "def probability(need_to_take, white_in_box, total_in_box):\n",
    "    top = combination(white_in_box, need_to_take)\n",
    "    bottom = combination(total_in_box, need_to_take)\n",
    "    return top/bottom"
   ]
  },
  {
   "cell_type": "markdown",
   "metadata": {},
   "source": [
    "\n",
    "##### 1. Какова вероятность того, что все мячи белые?\n",
    "##### Находим вероятность, что вытащим по 2 белых мяча из каждого ящика\n",
    "\n",
    "p1 = c 2 из 7 / с 2 из 10\n",
    "\n",
    "p2 = c 2 из 9 / с 2 из 11"
   ]
  },
  {
   "cell_type": "code",
   "execution_count": 43,
   "metadata": {},
   "outputs": [
    {
     "data": {
      "text/plain": [
       "0.3054545454545455"
      ]
     },
     "execution_count": 43,
     "metadata": {},
     "output_type": "execute_result"
    }
   ],
   "source": [
    "p1 = probability(2, 7, 10)\n",
    "p2 = probability(2, 9, 11)\n",
    "p = p1*p2\n",
    "p"
   ]
  },
  {
   "cell_type": "markdown",
   "metadata": {},
   "source": [
    "##### 2. Какова вероятность того, что ровно два мяча белые? \n",
    "##### Необходимо найти следующие комбинации и сложить их вероятности:\n",
    "\n",
    "1. Вероятность, что из первого ящика вытаскиваем 2 белых и ни одного из второго "
   ]
  },
  {
   "cell_type": "code",
   "execution_count": 51,
   "metadata": {},
   "outputs": [
    {
     "data": {
      "text/plain": [
       "0.008484848484848484"
      ]
     },
     "execution_count": 51,
     "metadata": {},
     "output_type": "execute_result"
    }
   ],
   "source": [
    "p1_1 = probability(2, 7, 10)\n",
    "p2_1 = probability(2, (11-9), 11)\n",
    "p1 = p1_1*p2_1\n",
    "p1"
   ]
  },
  {
   "cell_type": "markdown",
   "metadata": {},
   "source": [
    " 2. Вероятность, что из первого ящика ни одного белого и 2 белого из второго"
   ]
  },
  {
   "cell_type": "code",
   "execution_count": 52,
   "metadata": {},
   "outputs": [
    {
     "data": {
      "text/plain": [
       "0.04363636363636363"
      ]
     },
     "execution_count": 52,
     "metadata": {},
     "output_type": "execute_result"
    }
   ],
   "source": [
    "p1_2 = probability(2, (10-7), 10)\n",
    "p2_2 = probability(2, 9, 11)\n",
    "p2 = p1_2*p2_2\n",
    "p2"
   ]
  },
  {
   "cell_type": "markdown",
   "metadata": {},
   "source": [
    "3. Вероятность, что из первого ящика вытаскиваем 1 белый и 1 белый из второго"
   ]
  },
  {
   "cell_type": "code",
   "execution_count": 59,
   "metadata": {},
   "outputs": [
    {
     "data": {
      "text/plain": [
       "0.15272727272727274"
      ]
     },
     "execution_count": 59,
     "metadata": {},
     "output_type": "execute_result"
    }
   ],
   "source": [
    "C1_3 = combination(7, 1)*combination(3, 1)# совместное событие из 1 ящика, когда вытаскиваем 1 белый\n",
    "C1_3_total = combination(10, 2)\n",
    "p1_3 = C1_3/C1_3_total\n",
    "C2_3 = combination(2, 1)*combination(9, 1)# совместное событие из 2 ящика, когда вытаскиваем 1 белый\n",
    "C2_3_total = combination(11, 2)\n",
    "p2_3 = C2_3/C2_3_total\n",
    "p3=p1_3*p2_3\n",
    "p3"
   ]
  },
  {
   "cell_type": "markdown",
   "metadata": {},
   "source": [
    "##### Найдем сумму этих вероятностей"
   ]
  },
  {
   "cell_type": "code",
   "execution_count": 60,
   "metadata": {},
   "outputs": [
    {
     "data": {
      "text/plain": [
       "0.20484848484848486"
      ]
     },
     "execution_count": 60,
     "metadata": {},
     "output_type": "execute_result"
    }
   ],
   "source": [
    "p = p1 + p2 + p3\n",
    "p"
   ]
  },
  {
   "cell_type": "markdown",
   "metadata": {},
   "source": [
    "\n",
    "#### 3. Какова вероятность того, что хотя бы один мяч белый?\n",
    "Попробуем пойти от обратного - мячей белых вообще нет. Вычтем эту вероятность из 1."
   ]
  },
  {
   "cell_type": "code",
   "execution_count": 62,
   "metadata": {},
   "outputs": [
    {
     "data": {
      "text/plain": [
       "0.9987878787878788"
      ]
     },
     "execution_count": 62,
     "metadata": {},
     "output_type": "execute_result"
    }
   ],
   "source": [
    "p1 = probability(2, 10-7, 10)\n",
    "p2 = probability(2, 11-9, 11)\n",
    "p_no_white = p1*p2\n",
    "p_rest = 1 - p_no_white\n",
    "p_rest"
   ]
  }
 ],
 "metadata": {
  "colab": {
   "collapsed_sections": [],
   "name": "Lesson1.ipynb",
   "provenance": []
  },
  "kernelspec": {
   "display_name": "Python 3",
   "language": "python",
   "name": "python3"
  },
  "language_info": {
   "codemirror_mode": {
    "name": "ipython",
    "version": 3
   },
   "file_extension": ".py",
   "mimetype": "text/x-python",
   "name": "python",
   "nbconvert_exporter": "python",
   "pygments_lexer": "ipython3",
   "version": "3.7.6"
  }
 },
 "nbformat": 4,
 "nbformat_minor": 1
}
