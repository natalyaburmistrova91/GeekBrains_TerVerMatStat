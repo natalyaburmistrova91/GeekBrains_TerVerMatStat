{
 "cells": [
  {
   "cell_type": "markdown",
   "metadata": {},
   "source": [
    "### Урок 8. Дисперсионный анализ. Логистическая регрессия"
   ]
  },
  {
   "cell_type": "code",
   "execution_count": 2,
   "metadata": {},
   "outputs": [],
   "source": [
    "import numpy as np"
   ]
  },
  {
   "cell_type": "markdown",
   "metadata": {},
   "source": [
    "1. Провести дисперсионный анализ для определения того, есть ли различия среднего роста среди взрослых футболистов, хоккеистов и штангистов. Даны значения роста в трех группах случайно выбранных спортсменов: Футболисты: 173, 175, 180, 178, 177, 185, 183, 182. Хоккеисты: 177, 179, 180, 188, 177, 172, 171, 184, 180. Штангисты: 172, 173, 169, 177, 166, 180, 178, 177, 172, 166, 170."
   ]
  },
  {
   "cell_type": "code",
   "execution_count": 20,
   "metadata": {},
   "outputs": [],
   "source": [
    "football = [173, 175, 180, 178, 177, 185, 183, 182]\n",
    "hokkey = [177, 179, 180, 188, 177, 172, 171, 184, 180]\n",
    "weightlifters = [172, 173, 169, 177, 166, 180, 178, 177, 172, 166, 170]\n",
    "k = 3\n",
    "football_n = len(football)\n",
    "hokkey_n = len(hokkey)\n",
    "weightlifters_n = len(weightlifters)\n",
    "total_n = football_n + hokkey_n + weightlifters_n"
   ]
  },
  {
   "cell_type": "code",
   "execution_count": 21,
   "metadata": {},
   "outputs": [],
   "source": [
    "football_av = sum(football)/football_n\n",
    "hokkey_av = sum(hokkey)/hokkey_n\n",
    "weightlifters_av = sum(weightlifters)/weightlifters_n\n",
    "total_av = (sum(football) + sum(hokkey) + sum(weightlifters)) / total_n"
   ]
  },
  {
   "cell_type": "code",
   "execution_count": 37,
   "metadata": {},
   "outputs": [
    {
     "data": {
      "text/plain": [
       "176.46428571428572"
      ]
     },
     "execution_count": 37,
     "metadata": {},
     "output_type": "execute_result"
    }
   ],
   "source": [
    "total_av"
   ]
  },
  {
   "cell_type": "code",
   "execution_count": 39,
   "metadata": {},
   "outputs": [
    {
     "data": {
      "text/plain": [
       "830.9642857142854"
      ]
     },
     "execution_count": 39,
     "metadata": {},
     "output_type": "execute_result"
    }
   ],
   "source": [
    "S_2 = 0\n",
    "for i in football:\n",
    "    S_2 += (i - total_av) ** 2\n",
    "for i in hokkey:\n",
    "    S_2 += (i - total_av) ** 2\n",
    "for i in weightlifters:\n",
    "    S_2 += (i - total_av) ** 2\n",
    "S_2"
   ]
  },
  {
   "cell_type": "code",
   "execution_count": 23,
   "metadata": {},
   "outputs": [
    {
     "data": {
      "text/plain": [
       "253.9074675324678"
      ]
     },
     "execution_count": 23,
     "metadata": {},
     "output_type": "execute_result"
    }
   ],
   "source": [
    "S_F = ((football_av - total_av) ** 2) * football_n + ((hokkey_av - total_av) ** 2) * hokkey_n + ((weightlifters_av - total_av) ** 2) * weightlifters_n\n",
    "S_F"
   ]
  },
  {
   "cell_type": "code",
   "execution_count": 24,
   "metadata": {},
   "outputs": [
    {
     "data": {
      "text/plain": [
       "577.0568181818181"
      ]
     },
     "execution_count": 24,
     "metadata": {},
     "output_type": "execute_result"
    }
   ],
   "source": [
    "S_ost = 0\n",
    "for i in football:\n",
    "    S_ost += (i - football_av) ** 2\n",
    "for i in hokkey:\n",
    "    S_ost += (i - hokkey_av) ** 2\n",
    "for i in weightlifters:\n",
    "    S_ost += (i - weightlifters_av) ** 2\n",
    "S_ost"
   ]
  },
  {
   "cell_type": "code",
   "execution_count": 25,
   "metadata": {},
   "outputs": [
    {
     "data": {
      "text/plain": [
       "830.9642857142859"
      ]
     },
     "execution_count": 25,
     "metadata": {},
     "output_type": "execute_result"
    }
   ],
   "source": [
    "S_F+S_ost"
   ]
  },
  {
   "cell_type": "code",
   "execution_count": 40,
   "metadata": {},
   "outputs": [
    {
     "data": {
      "text/plain": [
       "5.500053450812599"
      ]
     },
     "execution_count": 40,
     "metadata": {},
     "output_type": "execute_result"
    }
   ],
   "source": [
    "disp_f = S_F / (k - 1)\n",
    "disp_ost = S_ost / (total_n - k)\n",
    "K_fisher = disp_f / disp_ost\n",
    "K_fisher"
   ]
  },
  {
   "cell_type": "code",
   "execution_count": 41,
   "metadata": {},
   "outputs": [
    {
     "name": "stdout",
     "output_type": "stream",
     "text": [
      "2 25\n"
     ]
    }
   ],
   "source": [
    "df1 = k - 1\n",
    "df2 = total_n - k\n",
    "print(df1, df2)"
   ]
  },
  {
   "cell_type": "code",
   "execution_count": 42,
   "metadata": {},
   "outputs": [],
   "source": [
    "K_fisher_krit = 3.38 # при a = 0.05"
   ]
  },
  {
   "cell_type": "markdown",
   "metadata": {},
   "source": [
    "5.50 > 3.38. Различия среднего роста среди взрослых футболистов, хоккеистов и штангистов есть при уровне значимости a = 0.05"
   ]
  },
  {
   "cell_type": "code",
   "execution_count": 43,
   "metadata": {},
   "outputs": [],
   "source": [
    "from scipy import stats"
   ]
  },
  {
   "cell_type": "code",
   "execution_count": 44,
   "metadata": {},
   "outputs": [
    {
     "data": {
      "text/plain": [
       "F_onewayResult(statistic=5.500053450812596, pvalue=0.010482206918698694)"
      ]
     },
     "execution_count": 44,
     "metadata": {},
     "output_type": "execute_result"
    }
   ],
   "source": [
    "y1 = np.array(football)\n",
    "y2 = np.array(hokkey)\n",
    "y3 = np.array(weightlifters)\n",
    "stats.f_oneway(y1, y2, y3)"
   ]
  }
 ],
 "metadata": {
  "colab": {
   "collapsed_sections": [],
   "name": "Lesson1.ipynb",
   "provenance": []
  },
  "kernelspec": {
   "display_name": "Python 3",
   "language": "python",
   "name": "python3"
  },
  "language_info": {
   "codemirror_mode": {
    "name": "ipython",
    "version": 3
   },
   "file_extension": ".py",
   "mimetype": "text/x-python",
   "name": "python",
   "nbconvert_exporter": "python",
   "pygments_lexer": "ipython3",
   "version": "3.7.6"
  }
 },
 "nbformat": 4,
 "nbformat_minor": 1
}
