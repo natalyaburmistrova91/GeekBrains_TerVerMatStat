{
 "cells": [
  {
   "cell_type": "markdown",
   "metadata": {},
   "source": [
    "## Урок 3. Описательная статистика. Качественные и количественные характеристики популяции. Графическое представление данных"
   ]
  },
  {
   "cell_type": "code",
   "execution_count": 28,
   "metadata": {},
   "outputs": [],
   "source": [
    "from math import sqrt, factorial\n",
    "import numpy as np"
   ]
  },
  {
   "cell_type": "markdown",
   "metadata": {},
   "source": [
    "#### 1. Даны значения зарплат из выборки выпускников: 100, 80, 75, 77, 89, 33, 45, 25, 65, 17, 30, 24, 57, 55, 70, 75, 65, 84, 90, 150. Посчитать (желательно без использования статистических методов наподобие std, var, mean) среднее арифметическое, среднее квадратичное отклонение, смещенную и несмещенную оценки дисперсий для данной выборки."
   ]
  },
  {
   "cell_type": "code",
   "execution_count": 29,
   "metadata": {},
   "outputs": [],
   "source": [
    "a = [100, 80, 75, 77, 89, 33, 45, 25, 65, 17, 30, 24, 57, 55, 70, 75, 65, 84, 90, 150]"
   ]
  },
  {
   "cell_type": "code",
   "execution_count": 30,
   "metadata": {},
   "outputs": [
    {
     "name": "stdout",
     "output_type": "stream",
     "text": [
      "среднее арифметическое = 65.3 = 65.3 \n",
      "стандартное отклонение несмещенное = 31.624607341019814 = 31.624607341019814 \n",
      "смещенная оценка дисперсии 950.11 = 950.11; несмещенная оценка дисперсии 1000.1157894736843 = 1000.1157894736842\n"
     ]
    }
   ],
   "source": [
    "# среднее арифметическое\n",
    "sr_arif = sum(a)/len(a)\n",
    "\n",
    "top_std = 0\n",
    "for i in a:\n",
    "    top_std += (i - sr_arif) ** 2\n",
    "std_ne_sm = sqrt(top_std/(len(a) - 1))\n",
    "std_sm = sqrt(top_std/len(a))\n",
    "disp_ne_sm =  std_ne_sm ** 2\n",
    "disp_sm = std_sm ** 2\n",
    "print(f'среднее арифметическое = {sr_arif} = {np.mean(a)} \\nстандартное отклонение несмещенное = {std} = {np.std(a, ddof=1)} \\n' \n",
    "      f'смещенная оценка дисперсии {disp_sm} = {np.var(a)}; несмещенная оценка дисперсии {disp_ne_sm} = {np.var(a, ddof=1)}')    \n"
   ]
  },
  {
   "cell_type": "markdown",
   "metadata": {},
   "source": [
    "#### 2. В первом ящике находится 8 мячей, из которых 5 - белые. Во втором ящике - 12 мячей, из которых 5 белых. Из первого ящика вытаскивают случайным образом два мяча, из второго - 4. Какова вероятность того, что 3 мяча белые?"
   ]
  },
  {
   "cell_type": "code",
   "execution_count": 31,
   "metadata": {},
   "outputs": [],
   "source": [
    "def combination(total, need_to_take):\n",
    "    return factorial(total)/((factorial(need_to_take)*factorial(total-need_to_take)))\n",
    "\n",
    "                             \n",
    "def probability(need_to_take, white_in_box, total_in_box):\n",
    "    top = combination(white_in_box, need_to_take)\n",
    "    bottom = combination(total_in_box, need_to_take)\n",
    "    return top/bottom"
   ]
  },
  {
   "cell_type": "markdown",
   "metadata": {},
   "source": [
    "##### Необходимо найти следующие комбинации и сложить их вероятности:\n",
    "\n",
    "1. Вероятность, что из первого ящика вытаскиваем: 2 из 3 небелых всего 8 и из второго: 3 белых из 5 и 1 из 7 (=12-5) всего 12"
   ]
  },
  {
   "cell_type": "code",
   "execution_count": 32,
   "metadata": {},
   "outputs": [],
   "source": [
    "p1_1 = probability(2, 3, 8) # 2 мяча из 3 (=8-5) (небелые), всего 8\n",
    "p2_1 = combination(5, 3) * combination(7, 1)/ combination(12, 4) # 3 мяча из 5, 1 мяч из 7 (=12-5) (небелые), всего 12\n",
    "p1 = p1_1 * p2_1"
   ]
  },
  {
   "cell_type": "markdown",
   "metadata": {},
   "source": [
    "2. Вероятность, что из первого ящика вытаскиваем 1 из 2 белых и 2 белых из 4 из второго "
   ]
  },
  {
   "cell_type": "code",
   "execution_count": 33,
   "metadata": {},
   "outputs": [],
   "source": [
    "p1_2 = combination(5, 1) * combination(3, 1)/ combination(8, 2) # 1 мяч из 5, 1 мяч из 3 (=8-5) (небелые), всего 8\n",
    "p2_2 = combination(5, 2) * combination(7, 2)/ combination(12, 4) # 2 мяча из 5, 2 мяч из 7 (=12-5) (небелые), всего 12\n",
    "p2 = p1_2 * p2_2"
   ]
  },
  {
   "cell_type": "markdown",
   "metadata": {},
   "source": [
    "3. Вероятность, что из первого ящика вытаскиваем 2 из 2 белых и 1 белых из 4 из второго "
   ]
  },
  {
   "cell_type": "code",
   "execution_count": 34,
   "metadata": {},
   "outputs": [],
   "source": [
    "p1_3 = probability(2, 5, 8) # 2 мяча из 5 (белые), всего 8\n",
    "p2_3 = combination(5, 1) * combination(7, 3)/ combination(12, 4) # 1 мяч из 5, 3 мяча из 7 (=12-5) (небелые), всего 12\n",
    "p3 = p1_3 * p2_3"
   ]
  },
  {
   "cell_type": "code",
   "execution_count": 35,
   "metadata": {},
   "outputs": [
    {
     "data": {
      "text/plain": [
       "0.3686868686868687"
      ]
     },
     "execution_count": 35,
     "metadata": {},
     "output_type": "execute_result"
    }
   ],
   "source": [
    "p = p1 + p2 + p3\n",
    "p"
   ]
  },
  {
   "cell_type": "markdown",
   "metadata": {},
   "source": [
    "#### 3. На соревновании по биатлону один из трех спортсменов стреляет и попадает в мишень. Вероятность попадания для первого спортсмена равна 0.9, для второго — 0.8, для третьего — 0.6. Найти вероятность того, что выстрел произведен: a). первым спортсменом б). вторым спортсменом в). третьим спортсменом."
   ]
  },
  {
   "cell_type": "code",
   "execution_count": 36,
   "metadata": {},
   "outputs": [],
   "source": [
    "# Формула Байеса B1 - 1 стрелок, B2 - 2 стрелок, B3 - 3 стрелок\n",
    "# Вероятность, что выстрелил какой-то из них\n",
    "P_B1 = 1/3\n",
    "P_B2 = 1/3\n",
    "P_B3 = 1/3\n",
    "P_A_B1 = 0.9\n",
    "P_A_B2 = 0.8\n",
    "P_A_B3 = 0.6\n",
    "P_A = P_B1 * P_A_B1 + P_B2 * P_A_B2 + P_B3 * P_A_B3 "
   ]
  },
  {
   "cell_type": "code",
   "execution_count": 37,
   "metadata": {},
   "outputs": [
    {
     "data": {
      "text/plain": [
       "0.391304347826087"
      ]
     },
     "execution_count": 37,
     "metadata": {},
     "output_type": "execute_result"
    }
   ],
   "source": [
    "# Вероятность, что 1 стрелок\n",
    "P_B1_A = (P_B1 * P_A_B1)/P_A\n",
    "P_B1_A"
   ]
  },
  {
   "cell_type": "code",
   "execution_count": 38,
   "metadata": {
    "scrolled": true
   },
   "outputs": [
    {
     "data": {
      "text/plain": [
       "0.3478260869565218"
      ]
     },
     "execution_count": 38,
     "metadata": {},
     "output_type": "execute_result"
    }
   ],
   "source": [
    "# Вероятность, что 2 стрелок\n",
    "P_B2_A = (P_B2 * P_A_B2)/P_A\n",
    "P_B2_A"
   ]
  },
  {
   "cell_type": "code",
   "execution_count": 39,
   "metadata": {},
   "outputs": [
    {
     "data": {
      "text/plain": [
       "0.2608695652173913"
      ]
     },
     "execution_count": 39,
     "metadata": {},
     "output_type": "execute_result"
    }
   ],
   "source": [
    "# Вероятность, что 3 стрелок\n",
    "P_B3_A = (P_B3 * P_A_B3)/P_A\n",
    "P_B3_A"
   ]
  },
  {
   "cell_type": "markdown",
   "metadata": {},
   "source": [
    "####  4. В университет на факультеты A и B поступило равное количество студентов, а на факультет C студентов поступило столько же, сколько на A и B вместе. Вероятность того, что студент факультета A сдаст первую сессию, равна 0.8. Для студента факультета B эта вероятность равна 0.7, а для студента факультета C - 0.9. Студент сдал первую сессию. Какова вероятность, что он учится: a). на факультете A б). на факультете B в). на факультете C?"
   ]
  },
  {
   "cell_type": "code",
   "execution_count": 40,
   "metadata": {},
   "outputs": [],
   "source": [
    "# Формула Байеса B1 - А факультет, B2 - B факультет, B3 - C факультет\n",
    "# Вероятность, что выстрелил какой-то из них\n",
    "P_B1 = 1/4\n",
    "P_B2 = 1/4\n",
    "P_B3 = 2/4\n",
    "P_A_B1 = 0.8\n",
    "P_A_B2 = 0.7\n",
    "P_A_B3 = 0.9\n",
    "P_A = P_B1 * P_A_B1 + P_B2 * P_A_B2 + P_B3 * P_A_B3 "
   ]
  },
  {
   "cell_type": "code",
   "execution_count": 41,
   "metadata": {},
   "outputs": [
    {
     "data": {
      "text/plain": [
       "0.5454545454545455"
      ]
     },
     "execution_count": 41,
     "metadata": {},
     "output_type": "execute_result"
    }
   ],
   "source": [
    "# Вероятность, что C факультет\n",
    "P_B3_A = (P_B3 * P_A_B3)/P_A\n",
    "P_B3_A"
   ]
  },
  {
   "cell_type": "markdown",
   "metadata": {},
   "source": [
    "####  5. Устройство состоит из трех деталей. Для первой детали вероятность выйти из строя в первый месяц равна 0.1, для второй - 0.2, для третьей - 0.25. Какова вероятность того, что в первый месяц выйдут из строя: а). все детали б). только две детали в). хотя бы одна деталь г). от одной до двух деталей?"
   ]
  },
  {
   "cell_type": "code",
   "execution_count": 76,
   "metadata": {},
   "outputs": [
    {
     "data": {
      "text/plain": [
       "0.005000000000000001"
      ]
     },
     "execution_count": 76,
     "metadata": {},
     "output_type": "execute_result"
    }
   ],
   "source": [
    "p1 = 0.1\n",
    "p2 = 0.2\n",
    "p3 = 0.25\n",
    "# одновременно все детали\n",
    "p_total = p1 * p2 * p3\n",
    "p_total"
   ]
  },
  {
   "cell_type": "code",
   "execution_count": 77,
   "metadata": {},
   "outputs": [
    {
     "data": {
      "text/plain": [
       "0.08000000000000002"
      ]
     },
     "execution_count": 77,
     "metadata": {},
     "output_type": "execute_result"
    }
   ],
   "source": [
    "# только 2 детали\n",
    "p_part = p1 * p2 * (1-p3) + p1 * (1-p2) * p3 + (1-p1) * p2 * p3\n",
    "p_part"
   ]
  },
  {
   "cell_type": "code",
   "execution_count": 83,
   "metadata": {},
   "outputs": [
    {
     "data": {
      "text/plain": [
       "0.375"
      ]
     },
     "execution_count": 83,
     "metadata": {},
     "output_type": "execute_result"
    }
   ],
   "source": [
    "# только 1 деталь\n",
    "p_one = (1-p1) * p2 * (1-p3) + p1 * (1-p2) * (1-p3) + (1-p1) * (1-p2) * p3\n",
    "p_one"
   ]
  },
  {
   "cell_type": "code",
   "execution_count": 84,
   "metadata": {},
   "outputs": [
    {
     "data": {
      "text/plain": [
       "0.46"
      ]
     },
     "execution_count": 84,
     "metadata": {},
     "output_type": "execute_result"
    }
   ],
   "source": [
    "# хотя бы 1 деталь двумя способами\n",
    "p_at_least = p_one + p_total + p_part\n",
    "p_at_least"
   ]
  },
  {
   "cell_type": "code",
   "execution_count": 85,
   "metadata": {
    "scrolled": true
   },
   "outputs": [
    {
     "data": {
      "text/plain": [
       "0.45999999999999996"
      ]
     },
     "execution_count": 85,
     "metadata": {},
     "output_type": "execute_result"
    }
   ],
   "source": [
    "p_at_least_one_2 = 1 - ((1-p1) * (1-p2) * (1-p3))\n",
    "p_at_least_one_2"
   ]
  },
  {
   "cell_type": "code",
   "execution_count": 86,
   "metadata": {},
   "outputs": [
    {
     "data": {
      "text/plain": [
       "0.455"
      ]
     },
     "execution_count": 86,
     "metadata": {},
     "output_type": "execute_result"
    }
   ],
   "source": [
    "# от одной до двух деталей двумя способами\n",
    "p_from1to2_1 = p_one + p_part\n",
    "p_from1to2_1"
   ]
  },
  {
   "cell_type": "code",
   "execution_count": 87,
   "metadata": {},
   "outputs": [
    {
     "data": {
      "text/plain": [
       "0.45499999999999996"
      ]
     },
     "execution_count": 87,
     "metadata": {},
     "output_type": "execute_result"
    }
   ],
   "source": [
    "p_from1to2_2 = 1 - (p_total + ((1-p1) * (1-p2) * (1-p3))) \n",
    "p_from1to2_2"
   ]
  }
 ],
 "metadata": {
  "colab": {
   "collapsed_sections": [],
   "name": "Lesson1.ipynb",
   "provenance": []
  },
  "kernelspec": {
   "display_name": "Python 3",
   "language": "python",
   "name": "python3"
  },
  "language_info": {
   "codemirror_mode": {
    "name": "ipython",
    "version": 3
   },
   "file_extension": ".py",
   "mimetype": "text/x-python",
   "name": "python",
   "nbconvert_exporter": "python",
   "pygments_lexer": "ipython3",
   "version": "3.7.6"
  }
 },
 "nbformat": 4,
 "nbformat_minor": 1
}
